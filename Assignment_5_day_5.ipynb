{
  "nbformat": 4,
  "nbformat_minor": 0,
  "metadata": {
    "colab": {
      "name": "Assignment-5-day-5.ipynb",
      "private_outputs": true,
      "provenance": [],
      "collapsed_sections": [],
      "authorship_tag": "ABX9TyObBZ+H6UVXnkPlgf1orPs3",
      "include_colab_link": true
    },
    "kernelspec": {
      "name": "python3",
      "display_name": "Python 3"
    },
    "language_info": {
      "name": "python"
    }
  },
  "cells": [
    {
      "cell_type": "markdown",
      "metadata": {
        "id": "view-in-github",
        "colab_type": "text"
      },
      "source": [
        "<a href=\"https://colab.research.google.com/github/Ganesh8897/Assignments-python.py/blob/main/Assignment_5_day_5.ipynb\" target=\"_parent\"><img src=\"https://colab.research.google.com/assets/colab-badge.svg\" alt=\"Open In Colab\"/></a>"
      ]
    },
    {
      "cell_type": "code",
      "metadata": {
        "id": "ORH09sX92Go4"
      },
      "source": [
        "#Find a number is prime or not\n",
        "\n",
        "def isPrime(num):\n",
        "    for i in range(2, int(num/2+1)):\n",
        "        if(num % i == 0):\n",
        "            print(num, \" is not a Prime Number.\")\n",
        "            break\n",
        "    else:\n",
        "        print(num, \" is a Prime Number.\")\n",
        "\n",
        "print(\"Enter the number to check if it is a prime number\")\n",
        "a = int(input())\n",
        "isPrime(a)"
      ],
      "execution_count": null,
      "outputs": []
    },
    {
      "cell_type": "code",
      "metadata": {
        "id": "E9ZoCyzx2jS0"
      },
      "source": [
        "#Find a number is prime or not\n",
        "\n",
        "def isPrime(num):\n",
        "    for i in range(2, int(num/2+1)):\n",
        "        if(num % i == 0):\n",
        "            print(num, \" is not a Prime Number.\")\n",
        "            break\n",
        "    else:\n",
        "        print(num, \" is a Prime Number.\")\n",
        "\n",
        "print(\"Enter the number to check if it is a prime number\")\n",
        "a = int(input())\n",
        "isPrime(a)"
      ],
      "execution_count": null,
      "outputs": []
    }
  ]
}