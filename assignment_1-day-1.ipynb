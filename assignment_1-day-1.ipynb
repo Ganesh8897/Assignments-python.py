{
  "nbformat": 4,
  "nbformat_minor": 0,
  "metadata": {
    "colab": {
      "name": "assignment-1.ipynb",
      "provenance": [],
      "collapsed_sections": [],
      "include_colab_link": true
    },
    "kernelspec": {
      "display_name": "Python 3",
      "language": "python",
      "name": "python3"
    },
    "language_info": {
      "codemirror_mode": {
        "name": "ipython",
        "version": 3
      },
      "file_extension": ".py",
      "mimetype": "text/x-python",
      "name": "python",
      "nbconvert_exporter": "python",
      "pygments_lexer": "ipython3",
      "version": "3.7.6"
    }
  },
  "cells": [
    {
      "cell_type": "markdown",
      "metadata": {
        "id": "view-in-github",
        "colab_type": "text"
      },
      "source": [
        "<a href=\"https://colab.research.google.com/github/Ganesh8897/Assignments-python.py/blob/main/assignment_1-day-1.ipynb\" target=\"_parent\"><img src=\"https://colab.research.google.com/assets/colab-badge.svg\" alt=\"Open In Colab\"/></a>"
      ]
    },
    {
      "cell_type": "code",
      "metadata": {
        "id": "v8eatHs9jneF",
        "colab": {
          "base_uri": "https://localhost:8080/"
        },
        "outputId": "30bd044f-0dab-486c-cf35-cdb5e9b58088"
      },
      "source": [
        "#subtraction program\n",
        "a = int(input(\"First Element: \\n\"))\n",
        "b = int(input(\"Second Element: \\n\"))\n",
        "subtraction = a-b\n",
        "print(\"subtraction is: \\n\", subtraction)\n",
        "\n"
      ],
      "execution_count": null,
      "outputs": [
        {
          "output_type": "stream",
          "text": [
            "First Element: \n",
            "202\n",
            "Second Element: \n",
            "101\n",
            "subtraction is: \n",
            " 101\n"
          ],
          "name": "stdout"
        }
      ]
    },
    {
      "cell_type": "code",
      "metadata": {
        "colab": {
          "base_uri": "https://localhost:8080/"
        },
        "id": "6mgZdcAQukJ5",
        "outputId": "4c295e76-4faf-41b6-c694-7dc4915c58ec"
      },
      "source": [
        "#multiplication program\n",
        "a = int(input(\"First Element: \\n\"))\n",
        "b = int(input(\"Second Element: \\n\"))\n",
        "multiplication = a*b\n",
        "print(\"Multiplication is: \\n\", multiplication)"
      ],
      "execution_count": null,
      "outputs": [
        {
          "output_type": "stream",
          "text": [
            "First Element: \n",
            "25\n",
            "Second Element: \n",
            "15\n",
            "Multiplication is: \n",
            " 375\n"
          ],
          "name": "stdout"
        }
      ]
    },
    {
      "cell_type": "code",
      "metadata": {
        "colab": {
          "base_uri": "https://localhost:8080/"
        },
        "id": "2-VZQ12-stTt",
        "outputId": "37140d1c-a16f-494e-f367-69174f1790e1"
      },
      "source": [
        "#division program\n",
        "a = int(input(\"First Element: \\n\"))\n",
        "b = int(input(\"Second Element: \\n\"))\n",
        "division = a/b\n",
        "print(\"Division is: \\n\", division)"
      ],
      "execution_count": null,
      "outputs": [
        {
          "output_type": "stream",
          "text": [
            "First Element: \n",
            "125\n",
            "Second Element: \n",
            "5\n",
            "Division is: \n",
            " 25.0\n"
          ],
          "name": "stdout"
        }
      ]
    }
  ]
}