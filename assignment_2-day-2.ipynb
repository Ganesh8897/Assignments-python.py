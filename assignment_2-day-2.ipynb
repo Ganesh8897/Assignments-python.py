{
  "nbformat": 4,
  "nbformat_minor": 0,
  "metadata": {
    "colab": {
      "name": "lottery-day2.ipynb",
      "private_outputs": true,
      "provenance": [],
      "authorship_tag": "ABX9TyMuB2eNq7y55uQzYjAr3QIU",
      "include_colab_link": true
    },
    "kernelspec": {
      "name": "python3",
      "display_name": "Python 3"
    },
    "language_info": {
      "name": "python"
    }
  },
  "cells": [
    {
      "cell_type": "markdown",
      "metadata": {
        "id": "view-in-github",
        "colab_type": "text"
      },
      "source": [
        "<a href=\"https://colab.research.google.com/github/Ganesh8897/Assignments-python.py/blob/main/assignment_2-day-2.ipynb\" target=\"_parent\"><img src=\"https://colab.research.google.com/assets/colab-badge.svg\" alt=\"Open In Colab\"/></a>"
      ]
    },
    {
      "cell_type": "code",
      "metadata": {
        "id": "c0EyoVhKVdyz"
      },
      "source": [
        "#lottery in python\n",
        "#user will buy lottery ticket\n",
        "#user data is going to be store in the collection variable\n",
        "#after all tikets are sold\n",
        "#computer will automatically pick one randam\n",
        "#and computer will give winner\n",
        "# maximum users are = 10\n",
        "particiants"
      ],
      "execution_count": null,
      "outputs": []
    },
    {
      "cell_type": "code",
      "metadata": {
        "id": "Iw68_0MDWZXX"
      },
      "source": [
        "particiants=[ \"Sai kumar\", \"khalandar\", \"ganesh\", \"subbu\", \"suhel\" ]\n",
        "maxtik=5\n",
        "import random\n",
        "n=random.randint(0,maxtik-1)\n",
        "particiants[n]\n"
      ],
      "execution_count": null,
      "outputs": []
    },
    {
      "cell_type": "code",
      "metadata": {
        "id": "kA3_UEDLcaVi"
      },
      "source": [
        "d={\n",
        "    \"name\":\"deep sam\",\n",
        "   \"age\":\"20\"\n",
        "   \"email\":\"deep@.com\"\n",
        "   }\n"
      ],
      "execution_count": null,
      "outputs": []
    },
    {
      "cell_type": "code",
      "metadata": {
        "id": "Jwlo9-OXgLxw"
      },
      "source": [
        "for i in range(100):\n",
        " print(\"ganesh\")"
      ],
      "execution_count": null,
      "outputs": []
    }
  ]
}