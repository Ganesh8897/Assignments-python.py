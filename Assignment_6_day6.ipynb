{
  "nbformat": 4,
  "nbformat_minor": 0,
  "metadata": {
    "colab": {
      "name": "Assignment-6-day6.ipynb",
      "private_outputs": true,
      "provenance": [],
      "authorship_tag": "ABX9TyNN804tj0WU+WftqkXikveo"
    },
    "kernelspec": {
      "name": "python3",
      "display_name": "Python 3"
    },
    "language_info": {
      "name": "python"
    }
  },
  "cells": [
    {
      "cell_type": "code",
      "metadata": {
        "id": "h1pOvEWc4XaY"
      },
      "source": [
        "#importing request module\n",
        "import requests"
      ],
      "execution_count": null,
      "outputs": []
    },
    {
      "cell_type": "code",
      "metadata": {
        "id": "oYesSYbJ4jxW"
      },
      "source": [
        "#imorting pprint module for neat explaination\n",
        "from pprint import pprint"
      ],
      "execution_count": null,
      "outputs": []
    },
    {
      "cell_type": "code",
      "metadata": {
        "id": "2mGl2uUD4k02"
      },
      "source": [
        "city = input('Enter your city: ')\n",
        "\n",
        "#To customize the input as from the default link from OWM API , added format option inside it.\n",
        "url = 'https://api.openweathermap.org/data/2.5/weather?q={}&appid=7de67d130997a582012150ddd4dfdbc6' .format(city)\n",
        "\n",
        "#Getting data from the OWM server\n",
        "res = requests.get(url)\n",
        "\n",
        "#Optimizing the data from json to output terminal\n",
        "data = res.json()\n",
        "\n",
        "print(res)\n",
        "#using pprint for a organised output from json file from the Web.\n",
        "pprint(data)"
      ],
      "execution_count": null,
      "outputs": []
    }
  ]
}